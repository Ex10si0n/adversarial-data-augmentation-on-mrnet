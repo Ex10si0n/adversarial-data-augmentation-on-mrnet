{
 "cells": [
  {
   "cell_type": "code",
   "execution_count": null,
   "id": "b0dd40f4",
   "metadata": {},
   "outputs": [],
   "source": [
    "import torch\n",
    "import time\n",
    "\n",
    "dev = 'cuda'\n",
    "conv = torch.nn.Conv2d(10, 10, 3).to(dev)\n",
    "img = torch.randn(64, 10, 64, 64).to(dev)\n",
    "\n",
    "t0 = time.time()\n",
    "for i in range(100):\n",
    "    conv(img)\n",
    "    \n",
    "t1 = time.time()\n",
    "print(f'With CUDA, time: {t1-t0}')\n",
    "\n",
    "dev = 'cpu'\n",
    "conv = torch.nn.Conv2d(10, 10, 3).to(dev)\n",
    "img = torch.randn(64, 10, 64, 64).to(dev)\n",
    "\n",
    "t0 = time.time()\n",
    "for i in range(100):\n",
    "    conv(img)\n",
    "    \n",
    "t1 = time.time()\n",
    "print(f'With CUPU, time: {t1-t0}')\n"
   ]
  }
 ],
 "metadata": {
  "kernelspec": {
   "display_name": "Python 3 (ipykernel)",
   "language": "python",
   "name": "python3"
  },
  "language_info": {
   "codemirror_mode": {
    "name": "ipython",
    "version": 3
   },
   "file_extension": ".py",
   "mimetype": "text/x-python",
   "name": "python",
   "nbconvert_exporter": "python",
   "pygments_lexer": "ipython3",
   "version": "3.8.13"
  }
 },
 "nbformat": 4,
 "nbformat_minor": 5
}
