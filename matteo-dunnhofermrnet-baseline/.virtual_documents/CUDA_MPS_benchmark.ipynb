import torch
import time

dev = 'mps'
conv = torch.nn.Conv2d(10, 10, 3).to(dev)
img = torch.randn(64, 10, 64, 64).to(dev)

t0 = time.time()
for i in range(100):
    conv(img)
    
t1 = time.time()
print(f'With MPS, time: {t1-t0}')

dev = 'cpu'
conv = torch.nn.Conv2d(10, 10, 3).to(dev)
img = torch.randn(64, 10, 64, 64).to(dev)

t0 = time.time()
for i in range(100):
    conv(img)
    
t1 = time.time()
print(f'With CPU, time: {t1-t0}')




